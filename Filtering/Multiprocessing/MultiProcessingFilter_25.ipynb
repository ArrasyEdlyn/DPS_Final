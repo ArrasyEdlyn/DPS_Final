{
 "cells": [
  {
   "cell_type": "markdown",
   "id": "2d898705",
   "metadata": {},
   "source": [
    "Import Library"
   ]
  },
  {
   "cell_type": "code",
   "execution_count": 3,
   "id": "6d8c9247",
   "metadata": {},
   "outputs": [],
   "source": [
    "import multiprocessing as mp\n",
    "import numpy as np\n",
    "import pandas as pd\n",
    "import time"
   ]
  },
  {
   "cell_type": "markdown",
   "id": "1957800e",
   "metadata": {},
   "source": [
    "Open Data"
   ]
  },
  {
   "cell_type": "code",
   "execution_count": 4,
   "id": "0f0e9e75",
   "metadata": {},
   "outputs": [
    {
     "data": {
      "text/html": [
       "<div>\n",
       "<style scoped>\n",
       "    .dataframe tbody tr th:only-of-type {\n",
       "        vertical-align: middle;\n",
       "    }\n",
       "\n",
       "    .dataframe tbody tr th {\n",
       "        vertical-align: top;\n",
       "    }\n",
       "\n",
       "    .dataframe thead th {\n",
       "        text-align: right;\n",
       "    }\n",
       "</style>\n",
       "<table border=\"1\" class=\"dataframe\">\n",
       "  <thead>\n",
       "    <tr style=\"text-align: right;\">\n",
       "      <th></th>\n",
       "      <th>id</th>\n",
       "      <th>vendor_id</th>\n",
       "      <th>pickup_datetime</th>\n",
       "      <th>dropoff_datetime</th>\n",
       "      <th>passenger_count</th>\n",
       "      <th>pickup_longitude</th>\n",
       "      <th>pickup_latitude</th>\n",
       "      <th>dropoff_longitude</th>\n",
       "      <th>dropoff_latitude</th>\n",
       "      <th>store_and_fwd_flag</th>\n",
       "      <th>trip_duration</th>\n",
       "    </tr>\n",
       "  </thead>\n",
       "  <tbody>\n",
       "    <tr>\n",
       "      <th>0</th>\n",
       "      <td>id2875421</td>\n",
       "      <td>2</td>\n",
       "      <td>2016-03-14 17:24:55</td>\n",
       "      <td>2016-03-14 17:32:30</td>\n",
       "      <td>1</td>\n",
       "      <td>-73.982155</td>\n",
       "      <td>40.767937</td>\n",
       "      <td>-73.964630</td>\n",
       "      <td>40.765602</td>\n",
       "      <td>N</td>\n",
       "      <td>455</td>\n",
       "    </tr>\n",
       "    <tr>\n",
       "      <th>1</th>\n",
       "      <td>id2377394</td>\n",
       "      <td>1</td>\n",
       "      <td>2016-06-12 00:43:35</td>\n",
       "      <td>2016-06-12 00:54:38</td>\n",
       "      <td>1</td>\n",
       "      <td>-73.980415</td>\n",
       "      <td>40.738564</td>\n",
       "      <td>-73.999481</td>\n",
       "      <td>40.731152</td>\n",
       "      <td>N</td>\n",
       "      <td>663</td>\n",
       "    </tr>\n",
       "    <tr>\n",
       "      <th>2</th>\n",
       "      <td>id3858529</td>\n",
       "      <td>2</td>\n",
       "      <td>2016-01-19 11:35:24</td>\n",
       "      <td>2016-01-19 12:10:48</td>\n",
       "      <td>1</td>\n",
       "      <td>-73.979027</td>\n",
       "      <td>40.763939</td>\n",
       "      <td>-74.005333</td>\n",
       "      <td>40.710087</td>\n",
       "      <td>N</td>\n",
       "      <td>2124</td>\n",
       "    </tr>\n",
       "    <tr>\n",
       "      <th>3</th>\n",
       "      <td>id3504673</td>\n",
       "      <td>2</td>\n",
       "      <td>2016-04-06 19:32:31</td>\n",
       "      <td>2016-04-06 19:39:40</td>\n",
       "      <td>1</td>\n",
       "      <td>-74.010040</td>\n",
       "      <td>40.719971</td>\n",
       "      <td>-74.012268</td>\n",
       "      <td>40.706718</td>\n",
       "      <td>N</td>\n",
       "      <td>429</td>\n",
       "    </tr>\n",
       "    <tr>\n",
       "      <th>4</th>\n",
       "      <td>id2181028</td>\n",
       "      <td>2</td>\n",
       "      <td>2016-03-26 13:30:55</td>\n",
       "      <td>2016-03-26 13:38:10</td>\n",
       "      <td>1</td>\n",
       "      <td>-73.973053</td>\n",
       "      <td>40.793209</td>\n",
       "      <td>-73.972923</td>\n",
       "      <td>40.782520</td>\n",
       "      <td>N</td>\n",
       "      <td>435</td>\n",
       "    </tr>\n",
       "  </tbody>\n",
       "</table>\n",
       "</div>"
      ],
      "text/plain": [
       "          id  vendor_id      pickup_datetime     dropoff_datetime  \\\n",
       "0  id2875421          2  2016-03-14 17:24:55  2016-03-14 17:32:30   \n",
       "1  id2377394          1  2016-06-12 00:43:35  2016-06-12 00:54:38   \n",
       "2  id3858529          2  2016-01-19 11:35:24  2016-01-19 12:10:48   \n",
       "3  id3504673          2  2016-04-06 19:32:31  2016-04-06 19:39:40   \n",
       "4  id2181028          2  2016-03-26 13:30:55  2016-03-26 13:38:10   \n",
       "\n",
       "   passenger_count  pickup_longitude  pickup_latitude  dropoff_longitude  \\\n",
       "0                1        -73.982155        40.767937         -73.964630   \n",
       "1                1        -73.980415        40.738564         -73.999481   \n",
       "2                1        -73.979027        40.763939         -74.005333   \n",
       "3                1        -74.010040        40.719971         -74.012268   \n",
       "4                1        -73.973053        40.793209         -73.972923   \n",
       "\n",
       "   dropoff_latitude store_and_fwd_flag  trip_duration  \n",
       "0         40.765602                  N            455  \n",
       "1         40.731152                  N            663  \n",
       "2         40.710087                  N           2124  \n",
       "3         40.706718                  N            429  \n",
       "4         40.782520                  N            435  "
      ]
     },
     "execution_count": 4,
     "metadata": {},
     "output_type": "execute_result"
    }
   ],
   "source": [
    "df = pd.read_csv('../../train.csv')\n",
    "df.head()"
   ]
  },
  {
   "cell_type": "markdown",
   "id": "be2500cf",
   "metadata": {},
   "source": [
    "Take 25% of the Data"
   ]
  },
  {
   "cell_type": "code",
   "execution_count": 5,
   "id": "05abf758",
   "metadata": {},
   "outputs": [],
   "source": [
    "df_sample = df.sample(frac=0.25, random_state=42)\n",
    "sampled = df_sample[\"trip_duration\"]"
   ]
  },
  {
   "cell_type": "markdown",
   "id": "82996885",
   "metadata": {},
   "source": [
    "Filtering Using Multiprocessing"
   ]
  },
  {
   "cell_type": "code",
   "execution_count": 10,
   "id": "628e5158",
   "metadata": {},
   "outputs": [],
   "source": [
    "def filter_chunk_live(chunk, output_queue):\n",
    "    filtered = chunk[chunk['trip_duration'] > 1000]\n",
    "    for _, row in filtered.iterrows():\n",
    "        output_queue.put(row)"
   ]
  },
  {
   "cell_type": "markdown",
   "id": "668066c9",
   "metadata": {},
   "source": [
    "Split the Data for Multiprocecssing"
   ]
  },
  {
   "cell_type": "code",
   "execution_count": 7,
   "id": "479e04de",
   "metadata": {},
   "outputs": [],
   "source": [
    "def split_dataframe(df, n_chunks):\n",
    "    chunk_size = len(df) // n_chunks\n",
    "    return [df[i*chunk_size:(i+1)*chunk_size] for i in range(n_chunks - 1)] + [df[(n_chunks - 1)*chunk_size:]]\n"
   ]
  },
  {
   "cell_type": "markdown",
   "id": "ac619be2",
   "metadata": {},
   "source": [
    "Run MultiProcessing"
   ]
  },
  {
   "cell_type": "code",
   "execution_count": 11,
   "id": "ac53b757",
   "metadata": {},
   "outputs": [],
   "source": [
    "def live_parallel_filter(df_sampled, num_processes=4):\n",
    "    chunks = split_dataframe(df_sampled, num_processes)\n",
    "    output_queue = mp.Queue()\n",
    "\n",
    "    processes = []\n",
    "    for chunk in chunks:\n",
    "        p = mp.Process(target=filter_chunk_live, args=(chunk, output_queue))\n",
    "        p.start()\n",
    "        processes.append(p)\n",
    "\n",
    "    # Print data live while collecting it\n",
    "    live_filtered = []\n",
    "    active_processes = len(processes)\n",
    "    while active_processes > 0:\n",
    "        try:\n",
    "            row = output_queue.get(timeout=0.5)\n",
    "            print(row.to_dict())  # 👈 LIVE OUTPUT\n",
    "            live_filtered.append(row)\n",
    "        except:\n",
    "            # Check if all processes are done\n",
    "            active_processes = sum(p.is_alive() for p in processes)\n",
    "\n",
    "    for p in processes:\n",
    "        p.join()\n",
    "\n",
    "    # Combine collected rows into a DataFrame\n",
    "    return pd.DataFrame(live_filtered)"
   ]
  },
  {
   "cell_type": "code",
   "execution_count": null,
   "id": "0db28e31",
   "metadata": {},
   "outputs": [],
   "source": [
    "if __name__ == '__main__':\n",
    "    start = time.time()\n",
    "    filtered_df = live_parallel_filter(df_sample, num_processes=4)\n",
    "    end = time.time()\n",
    "\n",
    "    print(\"\\n Filtering complete.\")\n",
    "    print(f\"Result: {filtered_df.shape[0]} rows matched.\")\n",
    "    print(f\"Took {end - start:.2f} seconds.\")"
   ]
  }
 ],
 "metadata": {
  "kernelspec": {
   "display_name": "Python 3",
   "language": "python",
   "name": "python3"
  },
  "language_info": {
   "codemirror_mode": {
    "name": "ipython",
    "version": 3
   },
   "file_extension": ".py",
   "mimetype": "text/x-python",
   "name": "python",
   "nbconvert_exporter": "python",
   "pygments_lexer": "ipython3",
   "version": "3.13.3"
  }
 },
 "nbformat": 4,
 "nbformat_minor": 5
}
