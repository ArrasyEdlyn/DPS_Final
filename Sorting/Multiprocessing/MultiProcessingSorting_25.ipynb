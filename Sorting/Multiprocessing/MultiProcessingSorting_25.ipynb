{
 "cells": [
  {
   "cell_type": "markdown",
   "id": "2d898705",
   "metadata": {},
   "source": [
    "Import Library"
   ]
  },
  {
   "cell_type": "code",
   "execution_count": 1,
   "id": "6d8c9247",
   "metadata": {},
   "outputs": [],
   "source": [
    "import pandas as pd\n",
    "import multiprocessing\n",
    "import time"
   ]
  },
  {
   "cell_type": "markdown",
   "id": "1957800e",
   "metadata": {},
   "source": [
    "Open Data"
   ]
  },
  {
   "cell_type": "code",
   "execution_count": 4,
   "id": "0f0e9e75",
   "metadata": {},
   "outputs": [
    {
     "data": {
      "text/html": [
       "<div>\n",
       "<style scoped>\n",
       "    .dataframe tbody tr th:only-of-type {\n",
       "        vertical-align: middle;\n",
       "    }\n",
       "\n",
       "    .dataframe tbody tr th {\n",
       "        vertical-align: top;\n",
       "    }\n",
       "\n",
       "    .dataframe thead th {\n",
       "        text-align: right;\n",
       "    }\n",
       "</style>\n",
       "<table border=\"1\" class=\"dataframe\">\n",
       "  <thead>\n",
       "    <tr style=\"text-align: right;\">\n",
       "      <th></th>\n",
       "      <th>id</th>\n",
       "      <th>vendor_id</th>\n",
       "      <th>pickup_datetime</th>\n",
       "      <th>dropoff_datetime</th>\n",
       "      <th>passenger_count</th>\n",
       "      <th>pickup_longitude</th>\n",
       "      <th>pickup_latitude</th>\n",
       "      <th>dropoff_longitude</th>\n",
       "      <th>dropoff_latitude</th>\n",
       "      <th>store_and_fwd_flag</th>\n",
       "      <th>trip_duration</th>\n",
       "    </tr>\n",
       "  </thead>\n",
       "  <tbody>\n",
       "    <tr>\n",
       "      <th>0</th>\n",
       "      <td>id2875421</td>\n",
       "      <td>2</td>\n",
       "      <td>2016-03-14 17:24:55</td>\n",
       "      <td>2016-03-14 17:32:30</td>\n",
       "      <td>1</td>\n",
       "      <td>-73.982155</td>\n",
       "      <td>40.767937</td>\n",
       "      <td>-73.964630</td>\n",
       "      <td>40.765602</td>\n",
       "      <td>N</td>\n",
       "      <td>455</td>\n",
       "    </tr>\n",
       "    <tr>\n",
       "      <th>1</th>\n",
       "      <td>id2377394</td>\n",
       "      <td>1</td>\n",
       "      <td>2016-06-12 00:43:35</td>\n",
       "      <td>2016-06-12 00:54:38</td>\n",
       "      <td>1</td>\n",
       "      <td>-73.980415</td>\n",
       "      <td>40.738564</td>\n",
       "      <td>-73.999481</td>\n",
       "      <td>40.731152</td>\n",
       "      <td>N</td>\n",
       "      <td>663</td>\n",
       "    </tr>\n",
       "    <tr>\n",
       "      <th>2</th>\n",
       "      <td>id3858529</td>\n",
       "      <td>2</td>\n",
       "      <td>2016-01-19 11:35:24</td>\n",
       "      <td>2016-01-19 12:10:48</td>\n",
       "      <td>1</td>\n",
       "      <td>-73.979027</td>\n",
       "      <td>40.763939</td>\n",
       "      <td>-74.005333</td>\n",
       "      <td>40.710087</td>\n",
       "      <td>N</td>\n",
       "      <td>2124</td>\n",
       "    </tr>\n",
       "    <tr>\n",
       "      <th>3</th>\n",
       "      <td>id3504673</td>\n",
       "      <td>2</td>\n",
       "      <td>2016-04-06 19:32:31</td>\n",
       "      <td>2016-04-06 19:39:40</td>\n",
       "      <td>1</td>\n",
       "      <td>-74.010040</td>\n",
       "      <td>40.719971</td>\n",
       "      <td>-74.012268</td>\n",
       "      <td>40.706718</td>\n",
       "      <td>N</td>\n",
       "      <td>429</td>\n",
       "    </tr>\n",
       "    <tr>\n",
       "      <th>4</th>\n",
       "      <td>id2181028</td>\n",
       "      <td>2</td>\n",
       "      <td>2016-03-26 13:30:55</td>\n",
       "      <td>2016-03-26 13:38:10</td>\n",
       "      <td>1</td>\n",
       "      <td>-73.973053</td>\n",
       "      <td>40.793209</td>\n",
       "      <td>-73.972923</td>\n",
       "      <td>40.782520</td>\n",
       "      <td>N</td>\n",
       "      <td>435</td>\n",
       "    </tr>\n",
       "  </tbody>\n",
       "</table>\n",
       "</div>"
      ],
      "text/plain": [
       "          id  vendor_id      pickup_datetime     dropoff_datetime  \\\n",
       "0  id2875421          2  2016-03-14 17:24:55  2016-03-14 17:32:30   \n",
       "1  id2377394          1  2016-06-12 00:43:35  2016-06-12 00:54:38   \n",
       "2  id3858529          2  2016-01-19 11:35:24  2016-01-19 12:10:48   \n",
       "3  id3504673          2  2016-04-06 19:32:31  2016-04-06 19:39:40   \n",
       "4  id2181028          2  2016-03-26 13:30:55  2016-03-26 13:38:10   \n",
       "\n",
       "   passenger_count  pickup_longitude  pickup_latitude  dropoff_longitude  \\\n",
       "0                1        -73.982155        40.767937         -73.964630   \n",
       "1                1        -73.980415        40.738564         -73.999481   \n",
       "2                1        -73.979027        40.763939         -74.005333   \n",
       "3                1        -74.010040        40.719971         -74.012268   \n",
       "4                1        -73.973053        40.793209         -73.972923   \n",
       "\n",
       "   dropoff_latitude store_and_fwd_flag  trip_duration  \n",
       "0         40.765602                  N            455  \n",
       "1         40.731152                  N            663  \n",
       "2         40.710087                  N           2124  \n",
       "3         40.706718                  N            429  \n",
       "4         40.782520                  N            435  "
      ]
     },
     "execution_count": 4,
     "metadata": {},
     "output_type": "execute_result"
    }
   ],
   "source": [
    "df = pd.read_csv('../../train.csv')\n",
    "df.head()"
   ]
  },
  {
   "cell_type": "markdown",
   "id": "be2500cf",
   "metadata": {},
   "source": [
    "Take 25% of the Data"
   ]
  },
  {
   "cell_type": "code",
   "execution_count": 5,
   "id": "05abf758",
   "metadata": {},
   "outputs": [],
   "source": [
    "df_sample = df.sample(frac=0.25, random_state=42)\n",
    "sampled = df_sample[\"trip_duration\"]"
   ]
  },
  {
   "cell_type": "markdown",
   "id": "82996885",
   "metadata": {},
   "source": [
    "Sorting Using Multiprocessing"
   ]
  },
  {
   "cell_type": "code",
   "execution_count": 6,
   "id": "628e5158",
   "metadata": {},
   "outputs": [],
   "source": [
    "# Split the DataFrame into chunks\n",
    "def split_dataframe(df, n_chunks):\n",
    "    chunk_size = len(df) // n_chunks\n",
    "    return [df[i*chunk_size:(i+1)*chunk_size] for i in range(n_chunks - 1)] + [df[(n_chunks - 1)*chunk_size:]]\n",
    "\n",
    "# Each process sorts one chunk\n",
    "def sort_chunk(chunk):\n",
    "    return chunk.sort_values(by='trip_duration')\n",
    "\n",
    "# Final merge (simple version using re-sorting)\n",
    "def merge_sorted_chunks(sorted_chunks):\n",
    "    return pd.concat(sorted_chunks).sort_values(by='trip_duration').reset_index(drop=True)\n"
   ]
  },
  {
   "cell_type": "markdown",
   "id": "668066c9",
   "metadata": {},
   "source": [
    "Split the Data for Multiprocecssing"
   ]
  },
  {
   "cell_type": "code",
   "execution_count": 9,
   "id": "479e04de",
   "metadata": {},
   "outputs": [
    {
     "data": {
      "text/plain": [
       "[67250      1040\n",
       " 1397036     827\n",
       " 1021087     614\n",
       " 951424      867\n",
       " 707882     4967\n",
       "            ... \n",
       " 9060        901\n",
       " 488454      437\n",
       " 286427     1189\n",
       " 697976     1207\n",
       " 967251     1004\n",
       " Name: trip_duration, Length: 91165, dtype: int64,\n",
       " 122024     1880\n",
       " 536602     1009\n",
       " 16993       226\n",
       " 374350      308\n",
       " 1136622     589\n",
       "            ... \n",
       " 1071110     691\n",
       " 1202750    1773\n",
       " 404713      503\n",
       " 778402      243\n",
       " 335208      218\n",
       " Name: trip_duration, Length: 91165, dtype: int64,\n",
       " 1224558     614\n",
       " 579001      611\n",
       " 86830       738\n",
       " 413078      252\n",
       " 909557     1170\n",
       "            ... \n",
       " 101145      905\n",
       " 195601      414\n",
       " 626060      527\n",
       " 406364      145\n",
       " 37713       326\n",
       " Name: trip_duration, Length: 91165, dtype: int64,\n",
       " 68621       444\n",
       " 1094878     495\n",
       " 198855     1179\n",
       " 73691       581\n",
       " 1110940    1035\n",
       "            ... \n",
       " 170051      114\n",
       " 500460      788\n",
       " 338334      288\n",
       " 388537      418\n",
       " 501361     1414\n",
       " Name: trip_duration, Length: 91166, dtype: int64]"
      ]
     },
     "execution_count": 9,
     "metadata": {},
     "output_type": "execute_result"
    }
   ],
   "source": [
    "num_processes = 4\n",
    "chunks = split_dataframe(sampled, num_processes)\n",
    "chunks"
   ]
  },
  {
   "cell_type": "markdown",
   "id": "ac619be2",
   "metadata": {},
   "source": [
    "Run MultiProcessing"
   ]
  },
  {
   "cell_type": "code",
   "execution_count": null,
   "id": "ac53b757",
   "metadata": {},
   "outputs": [],
   "source": [
    "with multiprocessing.Pool(processes=num_processes) as pool:\n",
    "    sorted_chunks = pool.map(sort_chunk, chunks)\n",
    "\n",
    "sorted_df = merge_sorted_chunks(sorted_chunks)"
   ]
  }
 ],
 "metadata": {
  "kernelspec": {
   "display_name": "Python 3",
   "language": "python",
   "name": "python3"
  },
  "language_info": {
   "codemirror_mode": {
    "name": "ipython",
    "version": 3
   },
   "file_extension": ".py",
   "mimetype": "text/x-python",
   "name": "python",
   "nbconvert_exporter": "python",
   "pygments_lexer": "ipython3",
   "version": "3.13.3"
  }
 },
 "nbformat": 4,
 "nbformat_minor": 5
}
